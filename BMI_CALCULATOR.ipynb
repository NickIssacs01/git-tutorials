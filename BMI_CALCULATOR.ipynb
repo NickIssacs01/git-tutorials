{
 "cells": [
  {
   "cell_type": "markdown",
   "id": "25f9c627",
   "metadata": {},
   "source": [
    "# BMI CALCULATOR"
   ]
  },
  {
   "cell_type": "code",
   "execution_count": 5,
   "id": "1272ac4c",
   "metadata": {},
   "outputs": [
    {
     "name": "stdout",
     "output_type": "stream",
     "text": [
      "What is your name: Nicholas\n",
      "Hello, Nicholas. Welcome to our BMI calculation system\n"
     ]
    }
   ],
   "source": [
    "name = input(\"What is your name: \")\n",
    "print(f\"Hello, {name}. Welcome to our BMI calculation system\")"
   ]
  },
  {
   "cell_type": "code",
   "execution_count": 4,
   "id": "700299c5",
   "metadata": {},
   "outputs": [
    {
     "name": "stdout",
     "output_type": "stream",
     "text": [
      "Provie us with the information below: \n",
      "Enter your weight: Kgs 64\n",
      "Enter your height: Mtrs1.72\n",
      "=======BMI Results=======\n",
      "your BMI is: 21.63\n",
      "Normal\n"
     ]
    }
   ],
   "source": [
    "print(\"Provie us with the information below: \")\n",
    "weight = float(input(\"Enter your weight: Kgs \"))\n",
    "height = float(input(\"Enter your height: Mtrs\"))\n",
    "\n",
    "BMI = round(weight/(height * height), 2)\n",
    "\n",
    "print(\"=======BMI Results=======\")\n",
    "print(f\"your BMI is: {BMI}\")\n",
    "\n",
    "if BMI > 25:\n",
    "    print(\"Overweight\")\n",
    "elif BMI < 18:\n",
    "    print(\"Underweight\")\n",
    "else:\n",
    "    print(\"Normal\")"
   ]
  },
  {
   "cell_type": "code",
   "execution_count": null,
   "id": "ea6c1067",
   "metadata": {},
   "outputs": [],
   "source": []
  }
 ],
 "metadata": {
  "kernelspec": {
   "display_name": "Python 3 (ipykernel)",
   "language": "python",
   "name": "python3"
  },
  "language_info": {
   "codemirror_mode": {
    "name": "ipython",
    "version": 3
   },
   "file_extension": ".py",
   "mimetype": "text/x-python",
   "name": "python",
   "nbconvert_exporter": "python",
   "pygments_lexer": "ipython3",
   "version": "3.11.7"
  }
 },
 "nbformat": 4,
 "nbformat_minor": 5
}
